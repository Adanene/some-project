{
 "cells": [
  {
   "cell_type": "code",
   "execution_count": 1,
   "id": "5c405ae2",
   "metadata": {},
   "outputs": [],
   "source": [
    "#https://docs.google.com/spreadsheets/d/1vSeqmo559uXl_sjwCorKsENK2boOihERFrmrM-V5D2Y/edit#gid=0\n",
    "import pandas as pd\n",
    "import matplotlib.pyplot as plt\n",
    "\n",
    "\n",
    "sheet_id ='1vSeqmo559uXl_sjwCorKsENK2boOihERFrmrM-V5D2Y'\n",
    "xls = pd.ExcelFile(f\"https://docs.google.com/spreadsheets/d/{sheet_id}/export?format-xlsx\")\n",
    "df = pd.read_excel(xls , 'Sheet1' , header = 0)"
   ]
  },
  {
   "cell_type": "code",
   "execution_count": 2,
   "id": "3d3a90a3",
   "metadata": {},
   "outputs": [
    {
     "data": {
      "text/html": [
       "<div>\n",
       "<style scoped>\n",
       "    .dataframe tbody tr th:only-of-type {\n",
       "        vertical-align: middle;\n",
       "    }\n",
       "\n",
       "    .dataframe tbody tr th {\n",
       "        vertical-align: top;\n",
       "    }\n",
       "\n",
       "    .dataframe thead th {\n",
       "        text-align: right;\n",
       "    }\n",
       "</style>\n",
       "<table border=\"1\" class=\"dataframe\">\n",
       "  <thead>\n",
       "    <tr style=\"text-align: right;\">\n",
       "      <th></th>\n",
       "      <th>No</th>\n",
       "      <th>Jenis Kapal</th>\n",
       "      <th>Loa</th>\n",
       "      <th>Lwl</th>\n",
       "      <th>Breadth</th>\n",
       "      <th>Depth</th>\n",
       "      <th>Draft</th>\n",
       "      <th>Cb</th>\n",
       "      <th>Cp</th>\n",
       "      <th>beban A</th>\n",
       "      <th>...</th>\n",
       "      <th>kanan</th>\n",
       "      <th>incl depan</th>\n",
       "      <th>simpangan depan cm</th>\n",
       "      <th>Incl belakang</th>\n",
       "      <th>simpangan belakang cm</th>\n",
       "      <th>Unnamed: 22</th>\n",
       "      <th>Unnamed: 23</th>\n",
       "      <th>Unnamed: 24</th>\n",
       "      <th>Unnamed: 25</th>\n",
       "      <th>sumber :</th>\n",
       "    </tr>\n",
       "  </thead>\n",
       "  <tbody>\n",
       "    <tr>\n",
       "      <th>0</th>\n",
       "      <td>1</td>\n",
       "      <td>Kapal penumpang</td>\n",
       "      <td>62.8</td>\n",
       "      <td>58.32</td>\n",
       "      <td>12.0</td>\n",
       "      <td>4.0</td>\n",
       "      <td>2.7</td>\n",
       "      <td>0.682</td>\n",
       "      <td>0.722</td>\n",
       "      <td>4.003</td>\n",
       "      <td>...</td>\n",
       "      <td>CD</td>\n",
       "      <td>0.000000</td>\n",
       "      <td>0.0</td>\n",
       "      <td>0.000000</td>\n",
       "      <td>0.0</td>\n",
       "      <td>485.0</td>\n",
       "      <td>d</td>\n",
       "      <td>400.0</td>\n",
       "      <td>b</td>\n",
       "      <td>https://repository.its.ac.id/50176/1/431410001...</td>\n",
       "    </tr>\n",
       "    <tr>\n",
       "      <th>1</th>\n",
       "      <td>2</td>\n",
       "      <td>Kapal penumpang</td>\n",
       "      <td>62.8</td>\n",
       "      <td>58.32</td>\n",
       "      <td>12.0</td>\n",
       "      <td>4.0</td>\n",
       "      <td>2.7</td>\n",
       "      <td>0.682</td>\n",
       "      <td>0.722</td>\n",
       "      <td>4.003</td>\n",
       "      <td>...</td>\n",
       "      <td>ACD</td>\n",
       "      <td>2.956009</td>\n",
       "      <td>25.0</td>\n",
       "      <td>3.441878</td>\n",
       "      <td>24.0</td>\n",
       "      <td>NaN</td>\n",
       "      <td>NaN</td>\n",
       "      <td>NaN</td>\n",
       "      <td>NaN</td>\n",
       "      <td>NaN</td>\n",
       "    </tr>\n",
       "    <tr>\n",
       "      <th>2</th>\n",
       "      <td>3</td>\n",
       "      <td>Kapal penumpang</td>\n",
       "      <td>62.8</td>\n",
       "      <td>58.32</td>\n",
       "      <td>12.0</td>\n",
       "      <td>4.0</td>\n",
       "      <td>2.7</td>\n",
       "      <td>0.682</td>\n",
       "      <td>0.722</td>\n",
       "      <td>4.003</td>\n",
       "      <td>...</td>\n",
       "      <td>ABCD</td>\n",
       "      <td>2.482400</td>\n",
       "      <td>21.0</td>\n",
       "      <td>3.154449</td>\n",
       "      <td>22.0</td>\n",
       "      <td>NaN</td>\n",
       "      <td>NaN</td>\n",
       "      <td>NaN</td>\n",
       "      <td>NaN</td>\n",
       "      <td>NaN</td>\n",
       "    </tr>\n",
       "    <tr>\n",
       "      <th>3</th>\n",
       "      <td>4</td>\n",
       "      <td>Kapal penumpang</td>\n",
       "      <td>62.8</td>\n",
       "      <td>58.32</td>\n",
       "      <td>12.0</td>\n",
       "      <td>4.0</td>\n",
       "      <td>2.7</td>\n",
       "      <td>0.682</td>\n",
       "      <td>0.722</td>\n",
       "      <td>4.003</td>\n",
       "      <td>...</td>\n",
       "      <td>ABD</td>\n",
       "      <td>2.719158</td>\n",
       "      <td>23.0</td>\n",
       "      <td>3.441878</td>\n",
       "      <td>24.0</td>\n",
       "      <td>NaN</td>\n",
       "      <td>NaN</td>\n",
       "      <td>NaN</td>\n",
       "      <td>NaN</td>\n",
       "      <td>NaN</td>\n",
       "    </tr>\n",
       "    <tr>\n",
       "      <th>4</th>\n",
       "      <td>5</td>\n",
       "      <td>Kapal penumpang</td>\n",
       "      <td>62.8</td>\n",
       "      <td>58.32</td>\n",
       "      <td>12.0</td>\n",
       "      <td>4.0</td>\n",
       "      <td>2.7</td>\n",
       "      <td>0.682</td>\n",
       "      <td>0.722</td>\n",
       "      <td>4.003</td>\n",
       "      <td>...</td>\n",
       "      <td>AB</td>\n",
       "      <td>2.956009</td>\n",
       "      <td>25.0</td>\n",
       "      <td>3.441878</td>\n",
       "      <td>24.0</td>\n",
       "      <td>NaN</td>\n",
       "      <td>NaN</td>\n",
       "      <td>NaN</td>\n",
       "      <td>NaN</td>\n",
       "      <td>NaN</td>\n",
       "    </tr>\n",
       "  </tbody>\n",
       "</table>\n",
       "<p>5 rows × 27 columns</p>\n",
       "</div>"
      ],
      "text/plain": [
       "   No      Jenis Kapal   Loa    Lwl  Breadth  Depth  Draft     Cb     Cp  \\\n",
       "0   1  Kapal penumpang  62.8  58.32     12.0    4.0    2.7  0.682  0.722   \n",
       "1   2  Kapal penumpang  62.8  58.32     12.0    4.0    2.7  0.682  0.722   \n",
       "2   3  Kapal penumpang  62.8  58.32     12.0    4.0    2.7  0.682  0.722   \n",
       "3   4  Kapal penumpang  62.8  58.32     12.0    4.0    2.7  0.682  0.722   \n",
       "4   5  Kapal penumpang  62.8  58.32     12.0    4.0    2.7  0.682  0.722   \n",
       "\n",
       "   beban A  ...  kanan  incl depan  simpangan depan cm  Incl belakang  \\\n",
       "0    4.003  ...     CD    0.000000                 0.0       0.000000   \n",
       "1    4.003  ...    ACD    2.956009                25.0       3.441878   \n",
       "2    4.003  ...   ABCD    2.482400                21.0       3.154449   \n",
       "3    4.003  ...    ABD    2.719158                23.0       3.441878   \n",
       "4    4.003  ...     AB    2.956009                25.0       3.441878   \n",
       "\n",
       "   simpangan belakang cm  Unnamed: 22 Unnamed: 23 Unnamed: 24  Unnamed: 25  \\\n",
       "0                    0.0        485.0           d       400.0            b   \n",
       "1                   24.0          NaN         NaN         NaN          NaN   \n",
       "2                   22.0          NaN         NaN         NaN          NaN   \n",
       "3                   24.0          NaN         NaN         NaN          NaN   \n",
       "4                   24.0          NaN         NaN         NaN          NaN   \n",
       "\n",
       "                                            sumber :  \n",
       "0  https://repository.its.ac.id/50176/1/431410001...  \n",
       "1                                                NaN  \n",
       "2                                                NaN  \n",
       "3                                                NaN  \n",
       "4                                                NaN  \n",
       "\n",
       "[5 rows x 27 columns]"
      ]
     },
     "execution_count": 2,
     "metadata": {},
     "output_type": "execute_result"
    }
   ],
   "source": [
    "df.head()"
   ]
  },
  {
   "cell_type": "code",
   "execution_count": 3,
   "id": "52c71967",
   "metadata": {
    "scrolled": true
   },
   "outputs": [
    {
     "data": {
      "text/html": [
       "<div>\n",
       "<style scoped>\n",
       "    .dataframe tbody tr th:only-of-type {\n",
       "        vertical-align: middle;\n",
       "    }\n",
       "\n",
       "    .dataframe tbody tr th {\n",
       "        vertical-align: top;\n",
       "    }\n",
       "\n",
       "    .dataframe thead th {\n",
       "        text-align: right;\n",
       "    }\n",
       "</style>\n",
       "<table border=\"1\" class=\"dataframe\">\n",
       "  <thead>\n",
       "    <tr style=\"text-align: right;\">\n",
       "      <th></th>\n",
       "      <th>Jenis Kapal</th>\n",
       "      <th>Loa</th>\n",
       "      <th>Lwl</th>\n",
       "      <th>Breadth</th>\n",
       "      <th>Depth</th>\n",
       "      <th>Draft</th>\n",
       "      <th>Cb</th>\n",
       "      <th>beban A</th>\n",
       "      <th>beban B</th>\n",
       "      <th>beban C</th>\n",
       "      <th>beban D</th>\n",
       "      <th>beban E</th>\n",
       "      <th>beban F</th>\n",
       "      <th>Jumlah beban</th>\n",
       "      <th>kiri</th>\n",
       "      <th>kanan</th>\n",
       "      <th>incl depan</th>\n",
       "      <th>Incl belakang</th>\n",
       "    </tr>\n",
       "  </thead>\n",
       "  <tbody>\n",
       "    <tr>\n",
       "      <th>0</th>\n",
       "      <td>Kapal penumpang</td>\n",
       "      <td>62.8</td>\n",
       "      <td>58.32</td>\n",
       "      <td>12.0</td>\n",
       "      <td>4.0</td>\n",
       "      <td>2.7</td>\n",
       "      <td>0.682</td>\n",
       "      <td>4.003</td>\n",
       "      <td>3.718</td>\n",
       "      <td>3.95</td>\n",
       "      <td>4.022</td>\n",
       "      <td>0.0</td>\n",
       "      <td>0.0</td>\n",
       "      <td>4</td>\n",
       "      <td>AB</td>\n",
       "      <td>CD</td>\n",
       "      <td>0.000000</td>\n",
       "      <td>0.000000</td>\n",
       "    </tr>\n",
       "    <tr>\n",
       "      <th>1</th>\n",
       "      <td>Kapal penumpang</td>\n",
       "      <td>62.8</td>\n",
       "      <td>58.32</td>\n",
       "      <td>12.0</td>\n",
       "      <td>4.0</td>\n",
       "      <td>2.7</td>\n",
       "      <td>0.682</td>\n",
       "      <td>4.003</td>\n",
       "      <td>3.718</td>\n",
       "      <td>3.95</td>\n",
       "      <td>4.022</td>\n",
       "      <td>0.0</td>\n",
       "      <td>0.0</td>\n",
       "      <td>4</td>\n",
       "      <td>B</td>\n",
       "      <td>ACD</td>\n",
       "      <td>2.956009</td>\n",
       "      <td>3.441878</td>\n",
       "    </tr>\n",
       "    <tr>\n",
       "      <th>2</th>\n",
       "      <td>Kapal penumpang</td>\n",
       "      <td>62.8</td>\n",
       "      <td>58.32</td>\n",
       "      <td>12.0</td>\n",
       "      <td>4.0</td>\n",
       "      <td>2.7</td>\n",
       "      <td>0.682</td>\n",
       "      <td>4.003</td>\n",
       "      <td>3.718</td>\n",
       "      <td>3.95</td>\n",
       "      <td>4.022</td>\n",
       "      <td>0.0</td>\n",
       "      <td>0.0</td>\n",
       "      <td>4</td>\n",
       "      <td>None</td>\n",
       "      <td>ABCD</td>\n",
       "      <td>2.482400</td>\n",
       "      <td>3.154449</td>\n",
       "    </tr>\n",
       "    <tr>\n",
       "      <th>3</th>\n",
       "      <td>Kapal penumpang</td>\n",
       "      <td>62.8</td>\n",
       "      <td>58.32</td>\n",
       "      <td>12.0</td>\n",
       "      <td>4.0</td>\n",
       "      <td>2.7</td>\n",
       "      <td>0.682</td>\n",
       "      <td>4.003</td>\n",
       "      <td>3.718</td>\n",
       "      <td>3.95</td>\n",
       "      <td>4.022</td>\n",
       "      <td>0.0</td>\n",
       "      <td>0.0</td>\n",
       "      <td>4</td>\n",
       "      <td>C</td>\n",
       "      <td>ABD</td>\n",
       "      <td>2.719158</td>\n",
       "      <td>3.441878</td>\n",
       "    </tr>\n",
       "    <tr>\n",
       "      <th>4</th>\n",
       "      <td>Kapal penumpang</td>\n",
       "      <td>62.8</td>\n",
       "      <td>58.32</td>\n",
       "      <td>12.0</td>\n",
       "      <td>4.0</td>\n",
       "      <td>2.7</td>\n",
       "      <td>0.682</td>\n",
       "      <td>4.003</td>\n",
       "      <td>3.718</td>\n",
       "      <td>3.95</td>\n",
       "      <td>4.022</td>\n",
       "      <td>0.0</td>\n",
       "      <td>0.0</td>\n",
       "      <td>4</td>\n",
       "      <td>CD</td>\n",
       "      <td>AB</td>\n",
       "      <td>2.956009</td>\n",
       "      <td>3.441878</td>\n",
       "    </tr>\n",
       "  </tbody>\n",
       "</table>\n",
       "</div>"
      ],
      "text/plain": [
       "       Jenis Kapal   Loa    Lwl  Breadth  Depth  Draft     Cb  beban A  \\\n",
       "0  Kapal penumpang  62.8  58.32     12.0    4.0    2.7  0.682    4.003   \n",
       "1  Kapal penumpang  62.8  58.32     12.0    4.0    2.7  0.682    4.003   \n",
       "2  Kapal penumpang  62.8  58.32     12.0    4.0    2.7  0.682    4.003   \n",
       "3  Kapal penumpang  62.8  58.32     12.0    4.0    2.7  0.682    4.003   \n",
       "4  Kapal penumpang  62.8  58.32     12.0    4.0    2.7  0.682    4.003   \n",
       "\n",
       "   beban B  beban C  beban D  beban E  beban F  Jumlah beban  kiri kanan  \\\n",
       "0    3.718     3.95    4.022      0.0      0.0             4    AB    CD   \n",
       "1    3.718     3.95    4.022      0.0      0.0             4     B   ACD   \n",
       "2    3.718     3.95    4.022      0.0      0.0             4  None  ABCD   \n",
       "3    3.718     3.95    4.022      0.0      0.0             4     C   ABD   \n",
       "4    3.718     3.95    4.022      0.0      0.0             4    CD    AB   \n",
       "\n",
       "   incl depan  Incl belakang  \n",
       "0    0.000000       0.000000  \n",
       "1    2.956009       3.441878  \n",
       "2    2.482400       3.154449  \n",
       "3    2.719158       3.441878  \n",
       "4    2.956009       3.441878  "
      ]
     },
     "execution_count": 3,
     "metadata": {},
     "output_type": "execute_result"
    }
   ],
   "source": [
    "df = df[[\"Jenis Kapal\", \"Loa\", \"Lwl\", \"Breadth\", \"Depth\", \"Draft\", \"Cb\", \"beban A\", \"beban B\" , \"beban C\", \"beban D\", \"beban E\", \"beban F\" , \"Jumlah beban\", \"kiri\", \"kanan\", \"incl depan\", \"Incl belakang\"]]\n",
    "df.head()"
   ]
  },
  {
   "cell_type": "code",
   "execution_count": 4,
   "id": "bdf0dd40",
   "metadata": {
    "scrolled": false
   },
   "outputs": [
    {
     "data": {
      "text/plain": [
       "<bound method DataFrame.info of         Jenis Kapal     Loa     Lwl  Breadth   Depth  Draft     Cb  beban A  \\\n",
       "0   Kapal penumpang  62.800  58.320   12.000  4.0000  2.700  0.682   4.0030   \n",
       "1   Kapal penumpang  62.800  58.320   12.000  4.0000  2.700  0.682   4.0030   \n",
       "2   Kapal penumpang  62.800  58.320   12.000  4.0000  2.700  0.682   4.0030   \n",
       "3   Kapal penumpang  62.800  58.320   12.000  4.0000  2.700  0.682   4.0030   \n",
       "4   Kapal penumpang  62.800  58.320   12.000  4.0000  2.700  0.682   4.0030   \n",
       "5   Kapal penumpang  62.800  58.320   12.000  4.0000  2.700  0.682   4.0030   \n",
       "6   Kapal penumpang  62.800  58.320   12.000  4.0000  2.700  0.682   4.0030   \n",
       "7   Kapal penumpang  62.800  58.320   12.000  4.0000  2.700  0.682   4.0030   \n",
       "8   Kapal penumpang  62.800  58.320   12.000  4.0000  2.700  0.682   4.0030   \n",
       "9     Kapal patroli  28.000  25.500    5.850  3.1000  1.000  0.497   1.1050   \n",
       "10    Kapal patroli  28.000  25.500    5.850  3.1000  1.000  0.497   1.1050   \n",
       "11    Kapal patroli  28.000  25.500    5.850  3.1000  1.000  0.497   1.1050   \n",
       "12    Kapal patroli  28.000  25.500    5.850  3.1000  1.000  0.497   1.1050   \n",
       "13    Kapal patroli  28.000  25.500    5.850  3.1000  1.000  0.497   1.1050   \n",
       "14    Kapal patroli  28.000  25.500    5.850  3.1000  1.000  0.497   1.1050   \n",
       "15    Kapal patroli  28.000  25.500    5.850  3.1000  1.000  0.497   1.1050   \n",
       "16    Kapal patroli  28.000  25.500    5.850  3.1000  1.000  0.497   1.1050   \n",
       "17    Kapal patroli  28.000  25.500    5.850  3.1000  1.000  0.497   1.1050   \n",
       "18      Kapal kargo   1.570   1.500    0.265  0.1100  0.068  0.820   0.0005   \n",
       "19      Kapal kargo   1.570   1.500    0.265  0.1100  0.068  0.820   0.0005   \n",
       "20      Kapal kargo   1.570   1.500    0.265  0.1100  0.068  0.820   0.0005   \n",
       "21      Kapal kargo   1.570   1.500    0.265  0.1100  0.068  0.820   0.0005   \n",
       "22      Kapal kargo   1.570   1.500    0.265  0.1100  0.068  0.820   0.0005   \n",
       "23      Kapal kargo   1.570   1.500    0.265  0.1100  0.068  0.820   0.0005   \n",
       "24      Kapal kargo   1.570   1.500    0.265  0.1100  0.068  0.820   0.0005   \n",
       "25      Kapal kargo   2.484   2.433    0.323  0.1855  0.100  0.780   0.0002   \n",
       "26      Kapal kargo   2.484   2.433    0.323  0.1855  0.100  0.780   0.0002   \n",
       "27      Kapal kargo   2.484   2.433    0.323  0.1855  0.100  0.780   0.0002   \n",
       "28      Kapal kargo   2.484   2.433    0.323  0.1855  0.100  0.780   0.0002   \n",
       "29      Kapal kargo   2.484   2.433    0.323  0.1855  0.100  0.780   0.0002   \n",
       "30      Kapal kargo   2.484   2.433    0.323  0.1855  0.100  0.780   0.0002   \n",
       "31      Kapal kargo   2.484   2.433    0.323  0.1855  0.100  0.780   0.0002   \n",
       "32      Kapal kargo   2.484   2.433    0.323  0.1855  0.100  0.780   0.0002   \n",
       "33      Kapal kargo   2.484   2.433    0.323  0.1855  0.100  0.780   0.0002   \n",
       "34    Kapal patroli  17.300  15.000    4.100  2.0700  1.200  0.348   0.3000   \n",
       "35    Kapal patroli  17.300  15.000    4.100  2.0700  1.200  0.348   0.3000   \n",
       "36    Kapal patroli  17.300  15.000    4.100  2.0700  1.200  0.348   0.3000   \n",
       "37    Kapal patroli  17.300  15.000    4.100  2.0700  1.200  0.348   0.3000   \n",
       "38    Kapal patroli  17.300  15.000    4.100  2.0700  1.200  0.348   0.3000   \n",
       "39    Kapal patroli  17.300  15.000    4.100  2.0700  1.200  0.348   0.3000   \n",
       "40    Kapal patroli  17.300  15.000    4.100  2.0700  1.200  0.348   0.3000   \n",
       "41    Kapal patroli  17.300  15.000    4.100  2.0700  1.200  0.348   0.3000   \n",
       "42    Kapal patroli  17.300  15.000    4.100  2.0700  1.200  0.348   0.3000   \n",
       "\n",
       "    beban B  beban C  beban D  beban E  beban F  Jumlah beban    kiri   kanan  \\\n",
       "0    3.7180   3.9500   4.0220   0.0000   0.0000             4      AB      CD   \n",
       "1    3.7180   3.9500   4.0220   0.0000   0.0000             4       B     ACD   \n",
       "2    3.7180   3.9500   4.0220   0.0000   0.0000             4    None    ABCD   \n",
       "3    3.7180   3.9500   4.0220   0.0000   0.0000             4       C     ABD   \n",
       "4    3.7180   3.9500   4.0220   0.0000   0.0000             4      CD      AB   \n",
       "5    3.7180   3.9500   4.0220   0.0000   0.0000             4     ACD       B   \n",
       "6    3.7180   3.9500   4.0220   0.0000   0.0000             4    ABCD    None   \n",
       "7    3.7180   3.9500   4.0220   0.0000   0.0000             4     ABD       C   \n",
       "8    3.7180   3.9500   4.0220   0.0000   0.0000             4      AB      CD   \n",
       "9    1.1050   1.1050   1.1050   0.0000   0.0000             4      AB      CD   \n",
       "10   1.1050   1.1050   1.1050   0.0000   0.0000             4       B     ACD   \n",
       "11   1.1050   1.1050   1.1050   0.0000   0.0000             4    None    ABCD   \n",
       "12   1.1050   1.1050   1.1050   0.0000   0.0000             4       C     ABD   \n",
       "13   1.1050   1.1050   1.1050   0.0000   0.0000             4      CD      AB   \n",
       "14   1.1050   1.1050   1.1050   0.0000   0.0000             4     ACD       B   \n",
       "15   1.1050   1.1050   1.1050   0.0000   0.0000             4    ABCD    None   \n",
       "16   1.1050   1.1050   1.1050   0.0000   0.0000             4     ABD       C   \n",
       "17   1.1050   1.1050   1.1050   0.0000   0.0000             4      AB      CD   \n",
       "18   0.0005   0.0005   0.0005   0.0000   0.0000             4      AB      CD   \n",
       "19   0.0005   0.0005   0.0005   0.0000   0.0000             4       B     ACD   \n",
       "20   0.0005   0.0005   0.0005   0.0000   0.0000             4    None    ABCD   \n",
       "21   0.0005   0.0005   0.0005   0.0000   0.0000             4      AB      CD   \n",
       "22   0.0005   0.0005   0.0005   0.0000   0.0000             4     ABD       C   \n",
       "23   0.0005   0.0005   0.0005   0.0000   0.0000             4    ABCD    None   \n",
       "24   0.0005   0.0005   0.0005   0.0000   0.0000             4      AB      CD   \n",
       "25   0.0002   0.0002   0.0002   0.0002   0.0002             6     ABC     DEF   \n",
       "26   0.0002   0.0002   0.0002   0.0002   0.0002             6      BC    ADEF   \n",
       "27   0.0002   0.0002   0.0002   0.0002   0.0002             6       C   ABDEF   \n",
       "28   0.0002   0.0002   0.0002   0.0002   0.0002             6    None  ABCDEF   \n",
       "29   0.0002   0.0002   0.0002   0.0002   0.0002             6     ABC     DEF   \n",
       "30   0.0002   0.0002   0.0002   0.0002   0.0002             6    ABCD      EF   \n",
       "31   0.0002   0.0002   0.0002   0.0002   0.0002             6   ABCDE       F   \n",
       "32   0.0002   0.0002   0.0002   0.0002   0.0002             6  ABCDEF    None   \n",
       "33   0.0002   0.0002   0.0002   0.0002   0.0002             6     ABC     DEF   \n",
       "34   0.3000   0.2500   0.0000   0.0000   0.0000             3       A       B   \n",
       "35   0.3000   0.2500   0.0000   0.0000   0.0000             3      AC    None   \n",
       "36   0.3000   0.2500   0.0000   0.0000   0.0000             3     ABC    None   \n",
       "37   0.3000   0.2500   0.0000   0.0000   0.0000             3      BC       A   \n",
       "38   0.3000   0.2500   0.0000   0.0000   0.0000             3       C      AB   \n",
       "39   0.3000   0.2500   0.0000   0.0000   0.0000             3    None      AB   \n",
       "40   0.3000   0.2500   0.0000   0.0000   0.0000             3    None     ABC   \n",
       "41   0.3000   0.2500   0.0000   0.0000   0.0000             3       A      BC   \n",
       "42   0.3000   0.2500   0.0000   0.0000   0.0000             3       A       B   \n",
       "\n",
       "    incl depan  Incl belakang  \n",
       "0     0.000000       0.000000  \n",
       "1     2.956009       3.441878  \n",
       "2     2.482400       3.154449  \n",
       "3     2.719158       3.441878  \n",
       "4     2.956009       3.441878  \n",
       "5     2.719158       3.729479  \n",
       "6     2.719158       3.154449  \n",
       "7     2.837572       3.298143  \n",
       "8     2.837572       3.873350  \n",
       "9     0.000000       0.000000  \n",
       "10    2.000000       2.000000  \n",
       "11    3.000000       3.000000  \n",
       "12    2.000000       2.000000  \n",
       "13    0.000000       0.000000  \n",
       "14    2.000000       2.000000  \n",
       "15    3.000000       3.000000  \n",
       "16    2.000000       2.000000  \n",
       "17    0.000000       0.000000  \n",
       "18    0.000000       0.000000  \n",
       "19    2.000000       2.000000  \n",
       "20    4.040000       4.040000  \n",
       "21    0.000000       0.000000  \n",
       "22    2.000000       2.000000  \n",
       "23    4.040000       4.040000  \n",
       "24    0.000000       0.000000  \n",
       "25    1.100000       1.100000  \n",
       "26    0.100000       0.100000  \n",
       "27    0.900000       0.900000  \n",
       "28    1.800000       1.800000  \n",
       "29    1.000000       1.000000  \n",
       "30    2.000000       2.000000  \n",
       "31    3.000000       3.000000  \n",
       "32    4.000000       4.000000  \n",
       "33    1.100000       1.100000  \n",
       "34    0.000000       0.000000  \n",
       "35    0.030600       0.312000  \n",
       "36    0.042400       0.042600  \n",
       "37    0.016000       0.015600  \n",
       "38    0.015600       0.017000  \n",
       "39    0.025400       0.273000  \n",
       "40    0.034900       0.370000  \n",
       "41    0.008700       0.011100  \n",
       "42    0.000200       0.001500  >"
      ]
     },
     "execution_count": 4,
     "metadata": {},
     "output_type": "execute_result"
    }
   ],
   "source": [
    "df.info"
   ]
  },
  {
   "cell_type": "code",
   "execution_count": 5,
   "id": "f4c887a8",
   "metadata": {},
   "outputs": [
    {
     "name": "stdout",
     "output_type": "stream",
     "text": [
      "<class 'pandas.core.frame.DataFrame'>\n",
      "RangeIndex: 43 entries, 0 to 42\n",
      "Data columns (total 18 columns):\n",
      " #   Column         Non-Null Count  Dtype  \n",
      "---  ------         --------------  -----  \n",
      " 0   Jenis Kapal    43 non-null     object \n",
      " 1   Loa            43 non-null     float64\n",
      " 2   Lwl            43 non-null     float64\n",
      " 3   Breadth        43 non-null     float64\n",
      " 4   Depth          43 non-null     float64\n",
      " 5   Draft          43 non-null     float64\n",
      " 6   Cb             43 non-null     float64\n",
      " 7   beban A        43 non-null     float64\n",
      " 8   beban B        43 non-null     float64\n",
      " 9   beban C        43 non-null     float64\n",
      " 10  beban D        43 non-null     float64\n",
      " 11  beban E        43 non-null     float64\n",
      " 12  beban F        43 non-null     float64\n",
      " 13  Jumlah beban   43 non-null     int64  \n",
      " 14  kiri           43 non-null     object \n",
      " 15  kanan          43 non-null     object \n",
      " 16  incl depan     43 non-null     float64\n",
      " 17  Incl belakang  43 non-null     float64\n",
      "dtypes: float64(14), int64(1), object(3)\n",
      "memory usage: 6.2+ KB\n"
     ]
    }
   ],
   "source": [
    "df.info()"
   ]
  },
  {
   "cell_type": "code",
   "execution_count": 6,
   "id": "9326cac5",
   "metadata": {},
   "outputs": [
    {
     "data": {
      "text/plain": [
       "Jenis Kapal      0\n",
       "Loa              0\n",
       "Lwl              0\n",
       "Breadth          0\n",
       "Depth            0\n",
       "Draft            0\n",
       "Cb               0\n",
       "beban A          0\n",
       "beban B          0\n",
       "beban C          0\n",
       "beban D          0\n",
       "beban E          0\n",
       "beban F          0\n",
       "Jumlah beban     0\n",
       "kiri             0\n",
       "kanan            0\n",
       "incl depan       0\n",
       "Incl belakang    0\n",
       "dtype: int64"
      ]
     },
     "execution_count": 6,
     "metadata": {},
     "output_type": "execute_result"
    }
   ],
   "source": [
    "df = df.dropna()\n",
    "df.isnull().sum()"
   ]
  },
  {
   "cell_type": "code",
   "execution_count": 7,
   "id": "21faa29d",
   "metadata": {},
   "outputs": [
    {
     "data": {
      "text/plain": [
       "Kapal patroli      18\n",
       "Kapal kargo        16\n",
       "Kapal penumpang     9\n",
       "Name: Jenis Kapal, dtype: int64"
      ]
     },
     "execution_count": 7,
     "metadata": {},
     "output_type": "execute_result"
    }
   ],
   "source": [
    "df['Jenis Kapal'].value_counts()"
   ]
  },
  {
   "cell_type": "code",
   "execution_count": 8,
   "id": "26fc9f71",
   "metadata": {},
   "outputs": [
    {
     "data": {
      "image/png": "[encoded data removed]",
      "text/plain": [
       "<Figure size 1200x700 with 1 Axes>"
      ]
     },
     "metadata": {},
     "output_type": "display_data"
    }
   ],
   "source": [
    "fig, ax = plt.subplots(1,1, figsize=(12, 7))\n",
    "df.boxplot('incl depan', 'Jenis Kapal', ax=ax)\n",
    "plt.suptitle('incl depan (US$) v Jenis Kapal')\n",
    "plt.title('')\n",
    "plt.ylabel('incl depan')\n",
    "plt.xticks(rotation=90)\n",
    "plt.show()"
   ]
  },
  {
   "cell_type": "code",
   "execution_count": 9,
   "id": "715f4b1a",
   "metadata": {},
   "outputs": [
    {
     "data": {
      "image/png": "[encoded data removed]",
      "text/plain": [
       "<Figure size 1200x700 with 1 Axes>"
      ]
     },
     "metadata": {},
     "output_type": "display_data"
    }
   ],
   "source": [
    "fig, ax = plt.subplots(1,1, figsize=(12, 7))\n",
    "df.boxplot('incl depan', 'Cb', ax=ax)\n",
    "plt.suptitle('incl depan (US$) v Cb')\n",
    "plt.title('')\n",
    "plt.ylabel('incl depan')\n",
    "plt.xticks(rotation=90)\n",
    "plt.show()"
   ]
  },
  {
   "cell_type": "code",
   "execution_count": 10,
   "id": "cbb650bd",
   "metadata": {},
   "outputs": [
    {
     "data": {
      "text/plain": [
       "array([62.8  , 28.   ,  1.57 ,  2.484, 17.3  ])"
      ]
     },
     "execution_count": 10,
     "metadata": {},
     "output_type": "execute_result"
    }
   ],
   "source": [
    "df[\"Loa\"].unique()"
   ]
  },
  {
   "cell_type": "code",
   "execution_count": 11,
   "id": "ced5dd10",
   "metadata": {},
   "outputs": [
    {
     "data": {
      "text/plain": [
       "array([2.7  , 1.   , 0.068, 0.1  , 1.2  ])"
      ]
     },
     "execution_count": 11,
     "metadata": {},
     "output_type": "execute_result"
    }
   ],
   "source": [
    "df[\"Draft\"].unique()"
   ]
  },
  {
   "cell_type": "code",
   "execution_count": 12,
   "id": "7d72c817",
   "metadata": {},
   "outputs": [
    {
     "data": {
      "text/plain": [
       "array([58.32 , 25.5  ,  1.5  ,  2.433, 15.   ])"
      ]
     },
     "execution_count": 12,
     "metadata": {},
     "output_type": "execute_result"
    }
   ],
   "source": [
    "df[\"Lwl\"].unique()"
   ]
  },
  {
   "cell_type": "code",
   "execution_count": 13,
   "id": "14da5b74",
   "metadata": {},
   "outputs": [
    {
     "data": {
      "text/plain": [
       "array([12.   ,  5.85 ,  0.265,  0.323,  4.1  ])"
      ]
     },
     "execution_count": 13,
     "metadata": {},
     "output_type": "execute_result"
    }
   ],
   "source": [
    "df[\"Breadth\"].unique()"
   ]
  },
  {
   "cell_type": "code",
   "execution_count": 14,
   "id": "8412339c",
   "metadata": {},
   "outputs": [
    {
     "data": {
      "text/plain": [
       "array([4.    , 3.1   , 0.11  , 0.1855, 2.07  ])"
      ]
     },
     "execution_count": 14,
     "metadata": {},
     "output_type": "execute_result"
    }
   ],
   "source": [
    "df[\"Depth\"].unique()"
   ]
  },
  {
   "cell_type": "code",
   "execution_count": 15,
   "id": "56ece53b",
   "metadata": {},
   "outputs": [
    {
     "data": {
      "text/plain": [
       "array([0.682, 0.497, 0.82 , 0.78 , 0.348])"
      ]
     },
     "execution_count": 15,
     "metadata": {},
     "output_type": "execute_result"
    }
   ],
   "source": [
    "df[\"Cb\"].unique()"
   ]
  },
  {
   "cell_type": "code",
   "execution_count": 16,
   "id": "2bf59d18",
   "metadata": {},
   "outputs": [
    {
     "data": {
      "text/plain": [
       "array([4.003e+00, 1.105e+00, 5.000e-04, 2.000e-04, 3.000e-01])"
      ]
     },
     "execution_count": 16,
     "metadata": {},
     "output_type": "execute_result"
    }
   ],
   "source": [
    "df[\"beban A\"].unique()"
   ]
  },
  {
   "cell_type": "code",
   "execution_count": 17,
   "id": "76c96954",
   "metadata": {},
   "outputs": [
    {
     "data": {
      "text/plain": [
       "array([3.718e+00, 1.105e+00, 5.000e-04, 2.000e-04, 3.000e-01])"
      ]
     },
     "execution_count": 17,
     "metadata": {},
     "output_type": "execute_result"
    }
   ],
   "source": [
    "df[\"beban B\"].unique()"
   ]
  },
  {
   "cell_type": "code",
   "execution_count": 18,
   "id": "39831fe8",
   "metadata": {},
   "outputs": [
    {
     "data": {
      "text/plain": [
       "array([3.950e+00, 1.105e+00, 5.000e-04, 2.000e-04, 2.500e-01])"
      ]
     },
     "execution_count": 18,
     "metadata": {},
     "output_type": "execute_result"
    }
   ],
   "source": [
    "df[\"beban C\"].unique()"
   ]
  },
  {
   "cell_type": "code",
   "execution_count": 19,
   "id": "d8a19ce9",
   "metadata": {},
   "outputs": [
    {
     "data": {
      "text/plain": [
       "array([4.022e+00, 1.105e+00, 5.000e-04, 2.000e-04, 0.000e+00])"
      ]
     },
     "execution_count": 19,
     "metadata": {},
     "output_type": "execute_result"
    }
   ],
   "source": [
    "df[\"beban D\"].unique()"
   ]
  },
  {
   "cell_type": "code",
   "execution_count": 20,
   "id": "04f24884",
   "metadata": {},
   "outputs": [
    {
     "data": {
      "text/plain": [
       "array([0.    , 0.0002])"
      ]
     },
     "execution_count": 20,
     "metadata": {},
     "output_type": "execute_result"
    }
   ],
   "source": [
    "df[\"beban E\"].unique()"
   ]
  },
  {
   "cell_type": "code",
   "execution_count": 21,
   "id": "5214bc02",
   "metadata": {},
   "outputs": [
    {
     "data": {
      "text/plain": [
       "array([0.    , 0.0002])"
      ]
     },
     "execution_count": 21,
     "metadata": {},
     "output_type": "execute_result"
    }
   ],
   "source": [
    "df[\"beban F\"].unique()"
   ]
  },
  {
   "cell_type": "code",
   "execution_count": 22,
   "id": "c062f42f",
   "metadata": {},
   "outputs": [
    {
     "data": {
      "text/plain": [
       "array([4, 6, 3], dtype=int64)"
      ]
     },
     "execution_count": 22,
     "metadata": {},
     "output_type": "execute_result"
    }
   ],
   "source": [
    "df[\"Jumlah beban\"].unique()"
   ]
  },
  {
   "cell_type": "code",
   "execution_count": 23,
   "id": "f72bde0d",
   "metadata": {},
   "outputs": [
    {
     "data": {
      "text/plain": [
       "array(['AB', 'B', 'None', 'C', 'CD', 'ACD', 'ABCD', 'ABD', 'ABC', 'BC',\n",
       "       'ABCDE', 'ABCDEF', 'A', 'AC'], dtype=object)"
      ]
     },
     "execution_count": 23,
     "metadata": {},
     "output_type": "execute_result"
    }
   ],
   "source": [
    "df[\"kiri\"].unique()"
   ]
  },
  {
   "cell_type": "code",
   "execution_count": 24,
   "id": "2cc9411f",
   "metadata": {},
   "outputs": [
    {
     "data": {
      "text/plain": [
       "array(['CD', 'ACD', 'ABCD', 'ABD', 'AB', 'B', 'None', 'C', 'DEF', 'ADEF',\n",
       "       'ABDEF', 'ABCDEF', 'EF', 'F', 'A', 'ABC', 'BC'], dtype=object)"
      ]
     },
     "execution_count": 24,
     "metadata": {},
     "output_type": "execute_result"
    }
   ],
   "source": [
    "df[\"kanan\"].unique()"
   ]
  },
  {
   "cell_type": "code",
   "execution_count": 25,
   "id": "f2d42b5f",
   "metadata": {},
   "outputs": [
    {
     "data": {
      "text/plain": [
       "array([4, 3, 0, 1, 2], dtype=int64)"
      ]
     },
     "execution_count": 25,
     "metadata": {},
     "output_type": "execute_result"
    }
   ],
   "source": [
    "from sklearn.preprocessing import LabelEncoder\n",
    "from sklearn.multioutput import MultiOutputRegressor\n",
    "le_loa = LabelEncoder()\n",
    "df['Loa'] = le_loa.fit_transform(df['Loa'])\n",
    "df[\"Loa\"].unique()\n",
    "#le.classes_"
   ]
  },
  {
   "cell_type": "code",
   "execution_count": 26,
   "id": "f65298b1",
   "metadata": {},
   "outputs": [
    {
     "data": {
      "text/plain": [
       "array([2, 1, 0])"
      ]
     },
     "execution_count": 26,
     "metadata": {},
     "output_type": "execute_result"
    }
   ],
   "source": [
    "le_kapal = LabelEncoder()\n",
    "df['Jenis Kapal'] = le_kapal.fit_transform(df['Jenis Kapal'])\n",
    "df[\"Jenis Kapal\"].unique()"
   ]
  },
  {
   "cell_type": "code",
   "execution_count": 27,
   "id": "0aa4544e",
   "metadata": {},
   "outputs": [
    {
     "data": {
      "text/plain": [
       "array([4, 2, 0, 1, 3], dtype=int64)"
      ]
     },
     "execution_count": 27,
     "metadata": {},
     "output_type": "execute_result"
    }
   ],
   "source": [
    "le_draft= LabelEncoder()\n",
    "df['Draft'] = le_draft.fit_transform(df['Draft'])\n",
    "df[\"Draft\"].unique()"
   ]
  },
  {
   "cell_type": "code",
   "execution_count": 28,
   "id": "82f38785",
   "metadata": {},
   "outputs": [
    {
     "data": {
      "text/plain": [
       "array([4, 3, 0, 1, 2], dtype=int64)"
      ]
     },
     "execution_count": 28,
     "metadata": {},
     "output_type": "execute_result"
    }
   ],
   "source": [
    "le_lwl= LabelEncoder()\n",
    "df['Lwl'] = le_lwl.fit_transform(df['Lwl'])\n",
    "df[\"Lwl\"].unique()"
   ]
  },
  {
   "cell_type": "code",
   "execution_count": 29,
   "id": "47e2613d",
   "metadata": {},
   "outputs": [
    {
     "data": {
      "text/plain": [
       "array([4, 3, 0, 1, 2], dtype=int64)"
      ]
     },
     "execution_count": 29,
     "metadata": {},
     "output_type": "execute_result"
    }
   ],
   "source": [
    "le_Breadth= LabelEncoder()\n",
    "df['Breadth'] = le_Breadth.fit_transform(df['Breadth'])\n",
    "df[\"Breadth\"].unique()"
   ]
  },
  {
   "cell_type": "code",
   "execution_count": 30,
   "id": "9e1bb473",
   "metadata": {},
   "outputs": [
    {
     "data": {
      "text/plain": [
       "array([4, 3, 0, 1, 2], dtype=int64)"
      ]
     },
     "execution_count": 30,
     "metadata": {},
     "output_type": "execute_result"
    }
   ],
   "source": [
    "le_Depth= LabelEncoder()\n",
    "df['Depth'] = le_Depth.fit_transform(df['Depth'])\n",
    "df[\"Depth\"].unique()"
   ]
  },
  {
   "cell_type": "code",
   "execution_count": 31,
   "id": "84602bdb",
   "metadata": {},
   "outputs": [
    {
     "data": {
      "text/plain": [
       "array([2, 1, 4, 3, 0], dtype=int64)"
      ]
     },
     "execution_count": 31,
     "metadata": {},
     "output_type": "execute_result"
    }
   ],
   "source": [
    "le_Cb= LabelEncoder()\n",
    "df['Cb'] = le_Cb.fit_transform(df['Cb'])\n",
    "df[\"Cb\"].unique()"
   ]
  },
  {
   "cell_type": "code",
   "execution_count": 32,
   "id": "e93b02a2",
   "metadata": {},
   "outputs": [
    {
     "data": {
      "text/plain": [
       "array([4, 3, 1, 0, 2], dtype=int64)"
      ]
     },
     "execution_count": 32,
     "metadata": {},
     "output_type": "execute_result"
    }
   ],
   "source": [
    "le_bebanA= LabelEncoder()\n",
    "df['beban A'] = le_bebanA.fit_transform(df['beban A'])\n",
    "df[\"beban A\"].unique()"
   ]
  },
  {
   "cell_type": "code",
   "execution_count": 33,
   "id": "1b510eae",
   "metadata": {},
   "outputs": [
    {
     "data": {
      "text/plain": [
       "array([4, 3, 1, 0, 2], dtype=int64)"
      ]
     },
     "execution_count": 33,
     "metadata": {},
     "output_type": "execute_result"
    }
   ],
   "source": [
    "le_bebanB= LabelEncoder()\n",
    "df['beban B'] = le_bebanB.fit_transform(df['beban B'])\n",
    "df[\"beban B\"].unique()"
   ]
  },
  {
   "cell_type": "code",
   "execution_count": 34,
   "id": "b44bf44f",
   "metadata": {},
   "outputs": [
    {
     "data": {
      "text/plain": [
       "array([4, 3, 1, 0, 2], dtype=int64)"
      ]
     },
     "execution_count": 34,
     "metadata": {},
     "output_type": "execute_result"
    }
   ],
   "source": [
    "le_bebanC= LabelEncoder()\n",
    "df['beban C'] = le_bebanC.fit_transform(df['beban C'])\n",
    "df[\"beban C\"].unique()"
   ]
  },
  {
   "cell_type": "code",
   "execution_count": 35,
   "id": "194c3e43",
   "metadata": {},
   "outputs": [
    {
     "data": {
      "text/plain": [
       "array([4, 3, 2, 1, 0], dtype=int64)"
      ]
     },
     "execution_count": 35,
     "metadata": {},
     "output_type": "execute_result"
    }
   ],
   "source": [
    "le_bebanD= LabelEncoder()\n",
    "df['beban D'] = le_bebanD.fit_transform(df['beban D'])\n",
    "df[\"beban D\"].unique()"
   ]
  },
  {
   "cell_type": "code",
   "execution_count": 36,
   "id": "105f29c0",
   "metadata": {},
   "outputs": [
    {
     "data": {
      "text/plain": [
       "array([0, 1], dtype=int64)"
      ]
     },
     "execution_count": 36,
     "metadata": {},
     "output_type": "execute_result"
    }
   ],
   "source": [
    "le_bebanE= LabelEncoder()\n",
    "df['beban E'] = le_bebanE.fit_transform(df['beban E'])\n",
    "df[\"beban E\"].unique()"
   ]
  },
  {
   "cell_type": "code",
   "execution_count": 37,
   "id": "893cff9b",
   "metadata": {},
   "outputs": [
    {
     "data": {
      "text/plain": [
       "array([0, 1], dtype=int64)"
      ]
     },
     "execution_count": 37,
     "metadata": {},
     "output_type": "execute_result"
    }
   ],
   "source": [
    "le_bebanF= LabelEncoder()\n",
    "df['beban F'] = le_bebanF.fit_transform(df['beban F'])\n",
    "df[\"beban F\"].unique()"
   ]
  },
  {
   "cell_type": "code",
   "execution_count": 38,
   "id": "7571c0ed",
   "metadata": {},
   "outputs": [
    {
     "data": {
      "text/plain": [
       "array([1, 2, 0], dtype=int64)"
      ]
     },
     "execution_count": 38,
     "metadata": {},
     "output_type": "execute_result"
    }
   ],
   "source": [
    "le_jumbeb= LabelEncoder()\n",
    "df['Jumlah beban'] = le_jumbeb.fit_transform(df['Jumlah beban'])\n",
    "df[\"Jumlah beban\"].unique()"
   ]
  },
  {
   "cell_type": "code",
   "execution_count": null,
   "id": "d69a6123",
   "metadata": {},
   "outputs": [],
   "source": []
  },
  {
   "cell_type": "code",
   "execution_count": 43,
   "id": "87086b6e",
   "metadata": {},
   "outputs": [
    {
     "data": {
      "text/plain": [
       "array([ 1,  9, 13, 11, 12,  8,  3,  6,  2, 10,  4,  5,  0,  7])"
      ]
     },
     "execution_count": 43,
     "metadata": {},
     "output_type": "execute_result"
    }
   ],
   "source": [
    "le_kiri= LabelEncoder()\n",
    "df['kiri'] = le_kiri.fit_transform(df['kiri'])\n",
    "df[\"kiri\"].unique()"
   ]
  },
  {
   "cell_type": "code",
   "execution_count": 44,
   "id": "18ba154e",
   "metadata": {},
   "outputs": [
    {
     "data": {
      "text/plain": [
       "array([12,  7,  3,  5,  1,  9, 16, 11, 13,  8,  6,  4, 14, 15,  0,  2, 10])"
      ]
     },
     "execution_count": 44,
     "metadata": {},
     "output_type": "execute_result"
    }
   ],
   "source": [
    "le_kanan= LabelEncoder()\n",
    "df['kanan'] = le_kanan.fit_transform(df['kanan'])\n",
    "df[\"kanan\"].unique()"
   ]
  },
  {
   "cell_type": "code",
   "execution_count": 45,
   "id": "77cf83be",
   "metadata": {},
   "outputs": [],
   "source": [
    "X = df.drop([\"incl depan\", \"Incl belakang\"], axis=1)\n",
    "\n",
    "y = df[['incl depan','Incl belakang']]"
   ]
  },
  {
   "cell_type": "code",
   "execution_count": 46,
   "id": "3a3ff743",
   "metadata": {},
   "outputs": [
    {
     "data": {
      "text/plain": [
       "LinearRegression()"
      ]
     },
     "execution_count": 46,
     "metadata": {},
     "output_type": "execute_result"
    }
   ],
   "source": [
    "from sklearn.linear_model import LinearRegression\n",
    "linear_reg = LinearRegression()\n",
    "linear_reg.fit(X, y.values)"
   ]
  },
  {
   "cell_type": "code",
   "execution_count": 47,
   "id": "e6ebe230",
   "metadata": {},
   "outputs": [],
   "source": [
    "y_pred = linear_reg.predict(X)"
   ]
  },
  {
   "cell_type": "code",
   "execution_count": 48,
   "id": "36286309",
   "metadata": {},
   "outputs": [],
   "source": [
    "from sklearn.metrics import mean_squared_error, mean_absolute_error\n",
    "import numpy as np\n",
    "error = np.sqrt(mean_squared_error(y, y_pred))"
   ]
  },
  {
   "cell_type": "code",
   "execution_count": 49,
   "id": "b0819173",
   "metadata": {},
   "outputs": [
    {
     "data": {
      "text/plain": [
       "0.9369216844958921"
      ]
     },
     "execution_count": 49,
     "metadata": {},
     "output_type": "execute_result"
    }
   ],
   "source": [
    "error"
   ]
  },
  {
   "cell_type": "code",
   "execution_count": 50,
   "id": "2f470180",
   "metadata": {},
   "outputs": [
    {
     "data": {
      "text/plain": [
       "DecisionTreeRegressor(random_state=0)"
      ]
     },
     "execution_count": 50,
     "metadata": {},
     "output_type": "execute_result"
    }
   ],
   "source": [
    "from sklearn.tree import DecisionTreeRegressor\n",
    "dec_tree_reg = DecisionTreeRegressor(random_state=0)\n",
    "dec_tree_reg.fit(X, y.values)"
   ]
  },
  {
   "cell_type": "code",
   "execution_count": 51,
   "id": "6e416745",
   "metadata": {},
   "outputs": [],
   "source": [
    "y_pred = dec_tree_reg.predict(X)"
   ]
  },
  {
   "cell_type": "code",
   "execution_count": 52,
   "id": "449b9f69",
   "metadata": {},
   "outputs": [
    {
     "name": "stdout",
     "output_type": "stream",
     "text": [
      "0.37\n"
     ]
    }
   ],
   "source": [
    "error = np.sqrt(mean_squared_error(y, y_pred))\n",
    "print(\"{:,.02f}\".format(error))"
   ]
  },
  {
   "cell_type": "code",
   "execution_count": 53,
   "id": "8e3beb7e",
   "metadata": {},
   "outputs": [
    {
     "data": {
      "text/plain": [
       "RandomForestRegressor(random_state=0)"
      ]
     },
     "execution_count": 53,
     "metadata": {},
     "output_type": "execute_result"
    }
   ],
   "source": [
    "from sklearn.ensemble import RandomForestRegressor\n",
    "random_forest_reg = RandomForestRegressor(random_state=0)\n",
    "random_forest_reg.fit(X, y.values)"
   ]
  },
  {
   "cell_type": "code",
   "execution_count": 54,
   "id": "9cdef73d",
   "metadata": {},
   "outputs": [],
   "source": [
    "y_pred = random_forest_reg.predict(X)"
   ]
  },
  {
   "cell_type": "code",
   "execution_count": 55,
   "id": "31a85c4b",
   "metadata": {},
   "outputs": [
    {
     "name": "stdout",
     "output_type": "stream",
     "text": [
      "0.47\n"
     ]
    }
   ],
   "source": [
    "error = np.sqrt(mean_squared_error(y, y_pred))\n",
    "print(\"{:,.02f}\".format(error))"
   ]
  },
  {
   "cell_type": "code",
   "execution_count": 56,
   "id": "3dc558f0",
   "metadata": {},
   "outputs": [
    {
     "data": {
      "text/plain": [
       "GridSearchCV(estimator=DecisionTreeRegressor(random_state=0),\n",
       "             param_grid={'max_depth': [None, 2, 4, 6, 8, 10, 12]},\n",
       "             scoring='neg_mean_squared_error')"
      ]
     },
     "execution_count": 56,
     "metadata": {},
     "output_type": "execute_result"
    }
   ],
   "source": [
    "from sklearn.model_selection import GridSearchCV\n",
    "\n",
    "max_depth = [None, 2,4,6,8,10,12]\n",
    "parameters = {\"max_depth\": max_depth}\n",
    "\n",
    "regressor = DecisionTreeRegressor(random_state=0)\n",
    "gs = GridSearchCV(regressor, parameters, scoring='neg_mean_squared_error')\n",
    "gs.fit(X, y.values)"
   ]
  },
  {
   "cell_type": "code",
   "execution_count": 57,
   "id": "e2806a1f",
   "metadata": {},
   "outputs": [
    {
     "name": "stdout",
     "output_type": "stream",
     "text": [
      "0.46\n"
     ]
    }
   ],
   "source": [
    "regressor = gs.best_estimator_\n",
    "\n",
    "regressor.fit(X, y.values)\n",
    "y_pred = regressor.predict(X)\n",
    "error = np.sqrt(mean_squared_error(y, y_pred))\n",
    "print(\"{:,.02f}\".format(error))"
   ]
  },
  {
   "cell_type": "code",
   "execution_count": 58,
   "id": "a7b7a06b",
   "metadata": {},
   "outputs": [
    {
     "data": {
      "text/html": [
       "<div>\n",
       "<style scoped>\n",
       "    .dataframe tbody tr th:only-of-type {\n",
       "        vertical-align: middle;\n",
       "    }\n",
       "\n",
       "    .dataframe tbody tr th {\n",
       "        vertical-align: top;\n",
       "    }\n",
       "\n",
       "    .dataframe thead th {\n",
       "        text-align: right;\n",
       "    }\n",
       "</style>\n",
       "<table border=\"1\" class=\"dataframe\">\n",
       "  <thead>\n",
       "    <tr style=\"text-align: right;\">\n",
       "      <th></th>\n",
       "      <th>Jenis Kapal</th>\n",
       "      <th>Loa</th>\n",
       "      <th>Lwl</th>\n",
       "      <th>Breadth</th>\n",
       "      <th>Depth</th>\n",
       "      <th>Draft</th>\n",
       "      <th>Cb</th>\n",
       "      <th>beban A</th>\n",
       "      <th>beban B</th>\n",
       "      <th>beban C</th>\n",
       "      <th>beban D</th>\n",
       "      <th>beban E</th>\n",
       "      <th>beban F</th>\n",
       "      <th>Jumlah beban</th>\n",
       "      <th>kiri</th>\n",
       "      <th>kanan</th>\n",
       "    </tr>\n",
       "  </thead>\n",
       "  <tbody>\n",
       "    <tr>\n",
       "      <th>0</th>\n",
       "      <td>2</td>\n",
       "      <td>4</td>\n",
       "      <td>4</td>\n",
       "      <td>4</td>\n",
       "      <td>4</td>\n",
       "      <td>4</td>\n",
       "      <td>2</td>\n",
       "      <td>4</td>\n",
       "      <td>4</td>\n",
       "      <td>4</td>\n",
       "      <td>4</td>\n",
       "      <td>0</td>\n",
       "      <td>0</td>\n",
       "      <td>1</td>\n",
       "      <td>1</td>\n",
       "      <td>12</td>\n",
       "    </tr>\n",
       "    <tr>\n",
       "      <th>1</th>\n",
       "      <td>2</td>\n",
       "      <td>4</td>\n",
       "      <td>4</td>\n",
       "      <td>4</td>\n",
       "      <td>4</td>\n",
       "      <td>4</td>\n",
       "      <td>2</td>\n",
       "      <td>4</td>\n",
       "      <td>4</td>\n",
       "      <td>4</td>\n",
       "      <td>4</td>\n",
       "      <td>0</td>\n",
       "      <td>0</td>\n",
       "      <td>1</td>\n",
       "      <td>9</td>\n",
       "      <td>7</td>\n",
       "    </tr>\n",
       "    <tr>\n",
       "      <th>2</th>\n",
       "      <td>2</td>\n",
       "      <td>4</td>\n",
       "      <td>4</td>\n",
       "      <td>4</td>\n",
       "      <td>4</td>\n",
       "      <td>4</td>\n",
       "      <td>2</td>\n",
       "      <td>4</td>\n",
       "      <td>4</td>\n",
       "      <td>4</td>\n",
       "      <td>4</td>\n",
       "      <td>0</td>\n",
       "      <td>0</td>\n",
       "      <td>1</td>\n",
       "      <td>13</td>\n",
       "      <td>3</td>\n",
       "    </tr>\n",
       "    <tr>\n",
       "      <th>3</th>\n",
       "      <td>2</td>\n",
       "      <td>4</td>\n",
       "      <td>4</td>\n",
       "      <td>4</td>\n",
       "      <td>4</td>\n",
       "      <td>4</td>\n",
       "      <td>2</td>\n",
       "      <td>4</td>\n",
       "      <td>4</td>\n",
       "      <td>4</td>\n",
       "      <td>4</td>\n",
       "      <td>0</td>\n",
       "      <td>0</td>\n",
       "      <td>1</td>\n",
       "      <td>11</td>\n",
       "      <td>5</td>\n",
       "    </tr>\n",
       "    <tr>\n",
       "      <th>4</th>\n",
       "      <td>2</td>\n",
       "      <td>4</td>\n",
       "      <td>4</td>\n",
       "      <td>4</td>\n",
       "      <td>4</td>\n",
       "      <td>4</td>\n",
       "      <td>2</td>\n",
       "      <td>4</td>\n",
       "      <td>4</td>\n",
       "      <td>4</td>\n",
       "      <td>4</td>\n",
       "      <td>0</td>\n",
       "      <td>0</td>\n",
       "      <td>1</td>\n",
       "      <td>12</td>\n",
       "      <td>1</td>\n",
       "    </tr>\n",
       "    <tr>\n",
       "      <th>5</th>\n",
       "      <td>2</td>\n",
       "      <td>4</td>\n",
       "      <td>4</td>\n",
       "      <td>4</td>\n",
       "      <td>4</td>\n",
       "      <td>4</td>\n",
       "      <td>2</td>\n",
       "      <td>4</td>\n",
       "      <td>4</td>\n",
       "      <td>4</td>\n",
       "      <td>4</td>\n",
       "      <td>0</td>\n",
       "      <td>0</td>\n",
       "      <td>1</td>\n",
       "      <td>8</td>\n",
       "      <td>9</td>\n",
       "    </tr>\n",
       "    <tr>\n",
       "      <th>6</th>\n",
       "      <td>2</td>\n",
       "      <td>4</td>\n",
       "      <td>4</td>\n",
       "      <td>4</td>\n",
       "      <td>4</td>\n",
       "      <td>4</td>\n",
       "      <td>2</td>\n",
       "      <td>4</td>\n",
       "      <td>4</td>\n",
       "      <td>4</td>\n",
       "      <td>4</td>\n",
       "      <td>0</td>\n",
       "      <td>0</td>\n",
       "      <td>1</td>\n",
       "      <td>3</td>\n",
       "      <td>16</td>\n",
       "    </tr>\n",
       "    <tr>\n",
       "      <th>7</th>\n",
       "      <td>2</td>\n",
       "      <td>4</td>\n",
       "      <td>4</td>\n",
       "      <td>4</td>\n",
       "      <td>4</td>\n",
       "      <td>4</td>\n",
       "      <td>2</td>\n",
       "      <td>4</td>\n",
       "      <td>4</td>\n",
       "      <td>4</td>\n",
       "      <td>4</td>\n",
       "      <td>0</td>\n",
       "      <td>0</td>\n",
       "      <td>1</td>\n",
       "      <td>6</td>\n",
       "      <td>11</td>\n",
       "    </tr>\n",
       "    <tr>\n",
       "      <th>8</th>\n",
       "      <td>2</td>\n",
       "      <td>4</td>\n",
       "      <td>4</td>\n",
       "      <td>4</td>\n",
       "      <td>4</td>\n",
       "      <td>4</td>\n",
       "      <td>2</td>\n",
       "      <td>4</td>\n",
       "      <td>4</td>\n",
       "      <td>4</td>\n",
       "      <td>4</td>\n",
       "      <td>0</td>\n",
       "      <td>0</td>\n",
       "      <td>1</td>\n",
       "      <td>1</td>\n",
       "      <td>12</td>\n",
       "    </tr>\n",
       "    <tr>\n",
       "      <th>9</th>\n",
       "      <td>1</td>\n",
       "      <td>3</td>\n",
       "      <td>3</td>\n",
       "      <td>3</td>\n",
       "      <td>3</td>\n",
       "      <td>2</td>\n",
       "      <td>1</td>\n",
       "      <td>3</td>\n",
       "      <td>3</td>\n",
       "      <td>3</td>\n",
       "      <td>3</td>\n",
       "      <td>0</td>\n",
       "      <td>0</td>\n",
       "      <td>1</td>\n",
       "      <td>1</td>\n",
       "      <td>12</td>\n",
       "    </tr>\n",
       "    <tr>\n",
       "      <th>10</th>\n",
       "      <td>1</td>\n",
       "      <td>3</td>\n",
       "      <td>3</td>\n",
       "      <td>3</td>\n",
       "      <td>3</td>\n",
       "      <td>2</td>\n",
       "      <td>1</td>\n",
       "      <td>3</td>\n",
       "      <td>3</td>\n",
       "      <td>3</td>\n",
       "      <td>3</td>\n",
       "      <td>0</td>\n",
       "      <td>0</td>\n",
       "      <td>1</td>\n",
       "      <td>9</td>\n",
       "      <td>7</td>\n",
       "    </tr>\n",
       "    <tr>\n",
       "      <th>11</th>\n",
       "      <td>1</td>\n",
       "      <td>3</td>\n",
       "      <td>3</td>\n",
       "      <td>3</td>\n",
       "      <td>3</td>\n",
       "      <td>2</td>\n",
       "      <td>1</td>\n",
       "      <td>3</td>\n",
       "      <td>3</td>\n",
       "      <td>3</td>\n",
       "      <td>3</td>\n",
       "      <td>0</td>\n",
       "      <td>0</td>\n",
       "      <td>1</td>\n",
       "      <td>13</td>\n",
       "      <td>3</td>\n",
       "    </tr>\n",
       "    <tr>\n",
       "      <th>12</th>\n",
       "      <td>1</td>\n",
       "      <td>3</td>\n",
       "      <td>3</td>\n",
       "      <td>3</td>\n",
       "      <td>3</td>\n",
       "      <td>2</td>\n",
       "      <td>1</td>\n",
       "      <td>3</td>\n",
       "      <td>3</td>\n",
       "      <td>3</td>\n",
       "      <td>3</td>\n",
       "      <td>0</td>\n",
       "      <td>0</td>\n",
       "      <td>1</td>\n",
       "      <td>11</td>\n",
       "      <td>5</td>\n",
       "    </tr>\n",
       "    <tr>\n",
       "      <th>13</th>\n",
       "      <td>1</td>\n",
       "      <td>3</td>\n",
       "      <td>3</td>\n",
       "      <td>3</td>\n",
       "      <td>3</td>\n",
       "      <td>2</td>\n",
       "      <td>1</td>\n",
       "      <td>3</td>\n",
       "      <td>3</td>\n",
       "      <td>3</td>\n",
       "      <td>3</td>\n",
       "      <td>0</td>\n",
       "      <td>0</td>\n",
       "      <td>1</td>\n",
       "      <td>12</td>\n",
       "      <td>1</td>\n",
       "    </tr>\n",
       "    <tr>\n",
       "      <th>14</th>\n",
       "      <td>1</td>\n",
       "      <td>3</td>\n",
       "      <td>3</td>\n",
       "      <td>3</td>\n",
       "      <td>3</td>\n",
       "      <td>2</td>\n",
       "      <td>1</td>\n",
       "      <td>3</td>\n",
       "      <td>3</td>\n",
       "      <td>3</td>\n",
       "      <td>3</td>\n",
       "      <td>0</td>\n",
       "      <td>0</td>\n",
       "      <td>1</td>\n",
       "      <td>8</td>\n",
       "      <td>9</td>\n",
       "    </tr>\n",
       "    <tr>\n",
       "      <th>15</th>\n",
       "      <td>1</td>\n",
       "      <td>3</td>\n",
       "      <td>3</td>\n",
       "      <td>3</td>\n",
       "      <td>3</td>\n",
       "      <td>2</td>\n",
       "      <td>1</td>\n",
       "      <td>3</td>\n",
       "      <td>3</td>\n",
       "      <td>3</td>\n",
       "      <td>3</td>\n",
       "      <td>0</td>\n",
       "      <td>0</td>\n",
       "      <td>1</td>\n",
       "      <td>3</td>\n",
       "      <td>16</td>\n",
       "    </tr>\n",
       "    <tr>\n",
       "      <th>16</th>\n",
       "      <td>1</td>\n",
       "      <td>3</td>\n",
       "      <td>3</td>\n",
       "      <td>3</td>\n",
       "      <td>3</td>\n",
       "      <td>2</td>\n",
       "      <td>1</td>\n",
       "      <td>3</td>\n",
       "      <td>3</td>\n",
       "      <td>3</td>\n",
       "      <td>3</td>\n",
       "      <td>0</td>\n",
       "      <td>0</td>\n",
       "      <td>1</td>\n",
       "      <td>6</td>\n",
       "      <td>11</td>\n",
       "    </tr>\n",
       "    <tr>\n",
       "      <th>17</th>\n",
       "      <td>1</td>\n",
       "      <td>3</td>\n",
       "      <td>3</td>\n",
       "      <td>3</td>\n",
       "      <td>3</td>\n",
       "      <td>2</td>\n",
       "      <td>1</td>\n",
       "      <td>3</td>\n",
       "      <td>3</td>\n",
       "      <td>3</td>\n",
       "      <td>3</td>\n",
       "      <td>0</td>\n",
       "      <td>0</td>\n",
       "      <td>1</td>\n",
       "      <td>1</td>\n",
       "      <td>12</td>\n",
       "    </tr>\n",
       "    <tr>\n",
       "      <th>18</th>\n",
       "      <td>0</td>\n",
       "      <td>0</td>\n",
       "      <td>0</td>\n",
       "      <td>0</td>\n",
       "      <td>0</td>\n",
       "      <td>0</td>\n",
       "      <td>4</td>\n",
       "      <td>1</td>\n",
       "      <td>1</td>\n",
       "      <td>1</td>\n",
       "      <td>2</td>\n",
       "      <td>0</td>\n",
       "      <td>0</td>\n",
       "      <td>1</td>\n",
       "      <td>1</td>\n",
       "      <td>12</td>\n",
       "    </tr>\n",
       "    <tr>\n",
       "      <th>19</th>\n",
       "      <td>0</td>\n",
       "      <td>0</td>\n",
       "      <td>0</td>\n",
       "      <td>0</td>\n",
       "      <td>0</td>\n",
       "      <td>0</td>\n",
       "      <td>4</td>\n",
       "      <td>1</td>\n",
       "      <td>1</td>\n",
       "      <td>1</td>\n",
       "      <td>2</td>\n",
       "      <td>0</td>\n",
       "      <td>0</td>\n",
       "      <td>1</td>\n",
       "      <td>9</td>\n",
       "      <td>7</td>\n",
       "    </tr>\n",
       "    <tr>\n",
       "      <th>20</th>\n",
       "      <td>0</td>\n",
       "      <td>0</td>\n",
       "      <td>0</td>\n",
       "      <td>0</td>\n",
       "      <td>0</td>\n",
       "      <td>0</td>\n",
       "      <td>4</td>\n",
       "      <td>1</td>\n",
       "      <td>1</td>\n",
       "      <td>1</td>\n",
       "      <td>2</td>\n",
       "      <td>0</td>\n",
       "      <td>0</td>\n",
       "      <td>1</td>\n",
       "      <td>13</td>\n",
       "      <td>3</td>\n",
       "    </tr>\n",
       "    <tr>\n",
       "      <th>21</th>\n",
       "      <td>0</td>\n",
       "      <td>0</td>\n",
       "      <td>0</td>\n",
       "      <td>0</td>\n",
       "      <td>0</td>\n",
       "      <td>0</td>\n",
       "      <td>4</td>\n",
       "      <td>1</td>\n",
       "      <td>1</td>\n",
       "      <td>1</td>\n",
       "      <td>2</td>\n",
       "      <td>0</td>\n",
       "      <td>0</td>\n",
       "      <td>1</td>\n",
       "      <td>1</td>\n",
       "      <td>12</td>\n",
       "    </tr>\n",
       "    <tr>\n",
       "      <th>22</th>\n",
       "      <td>0</td>\n",
       "      <td>0</td>\n",
       "      <td>0</td>\n",
       "      <td>0</td>\n",
       "      <td>0</td>\n",
       "      <td>0</td>\n",
       "      <td>4</td>\n",
       "      <td>1</td>\n",
       "      <td>1</td>\n",
       "      <td>1</td>\n",
       "      <td>2</td>\n",
       "      <td>0</td>\n",
       "      <td>0</td>\n",
       "      <td>1</td>\n",
       "      <td>6</td>\n",
       "      <td>11</td>\n",
       "    </tr>\n",
       "    <tr>\n",
       "      <th>23</th>\n",
       "      <td>0</td>\n",
       "      <td>0</td>\n",
       "      <td>0</td>\n",
       "      <td>0</td>\n",
       "      <td>0</td>\n",
       "      <td>0</td>\n",
       "      <td>4</td>\n",
       "      <td>1</td>\n",
       "      <td>1</td>\n",
       "      <td>1</td>\n",
       "      <td>2</td>\n",
       "      <td>0</td>\n",
       "      <td>0</td>\n",
       "      <td>1</td>\n",
       "      <td>3</td>\n",
       "      <td>16</td>\n",
       "    </tr>\n",
       "    <tr>\n",
       "      <th>24</th>\n",
       "      <td>0</td>\n",
       "      <td>0</td>\n",
       "      <td>0</td>\n",
       "      <td>0</td>\n",
       "      <td>0</td>\n",
       "      <td>0</td>\n",
       "      <td>4</td>\n",
       "      <td>1</td>\n",
       "      <td>1</td>\n",
       "      <td>1</td>\n",
       "      <td>2</td>\n",
       "      <td>0</td>\n",
       "      <td>0</td>\n",
       "      <td>1</td>\n",
       "      <td>1</td>\n",
       "      <td>12</td>\n",
       "    </tr>\n",
       "    <tr>\n",
       "      <th>25</th>\n",
       "      <td>0</td>\n",
       "      <td>1</td>\n",
       "      <td>1</td>\n",
       "      <td>1</td>\n",
       "      <td>1</td>\n",
       "      <td>1</td>\n",
       "      <td>3</td>\n",
       "      <td>0</td>\n",
       "      <td>0</td>\n",
       "      <td>0</td>\n",
       "      <td>1</td>\n",
       "      <td>1</td>\n",
       "      <td>1</td>\n",
       "      <td>2</td>\n",
       "      <td>2</td>\n",
       "      <td>13</td>\n",
       "    </tr>\n",
       "    <tr>\n",
       "      <th>26</th>\n",
       "      <td>0</td>\n",
       "      <td>1</td>\n",
       "      <td>1</td>\n",
       "      <td>1</td>\n",
       "      <td>1</td>\n",
       "      <td>1</td>\n",
       "      <td>3</td>\n",
       "      <td>0</td>\n",
       "      <td>0</td>\n",
       "      <td>0</td>\n",
       "      <td>1</td>\n",
       "      <td>1</td>\n",
       "      <td>1</td>\n",
       "      <td>2</td>\n",
       "      <td>10</td>\n",
       "      <td>8</td>\n",
       "    </tr>\n",
       "    <tr>\n",
       "      <th>27</th>\n",
       "      <td>0</td>\n",
       "      <td>1</td>\n",
       "      <td>1</td>\n",
       "      <td>1</td>\n",
       "      <td>1</td>\n",
       "      <td>1</td>\n",
       "      <td>3</td>\n",
       "      <td>0</td>\n",
       "      <td>0</td>\n",
       "      <td>0</td>\n",
       "      <td>1</td>\n",
       "      <td>1</td>\n",
       "      <td>1</td>\n",
       "      <td>2</td>\n",
       "      <td>11</td>\n",
       "      <td>6</td>\n",
       "    </tr>\n",
       "    <tr>\n",
       "      <th>28</th>\n",
       "      <td>0</td>\n",
       "      <td>1</td>\n",
       "      <td>1</td>\n",
       "      <td>1</td>\n",
       "      <td>1</td>\n",
       "      <td>1</td>\n",
       "      <td>3</td>\n",
       "      <td>0</td>\n",
       "      <td>0</td>\n",
       "      <td>0</td>\n",
       "      <td>1</td>\n",
       "      <td>1</td>\n",
       "      <td>1</td>\n",
       "      <td>2</td>\n",
       "      <td>13</td>\n",
       "      <td>4</td>\n",
       "    </tr>\n",
       "    <tr>\n",
       "      <th>29</th>\n",
       "      <td>0</td>\n",
       "      <td>1</td>\n",
       "      <td>1</td>\n",
       "      <td>1</td>\n",
       "      <td>1</td>\n",
       "      <td>1</td>\n",
       "      <td>3</td>\n",
       "      <td>0</td>\n",
       "      <td>0</td>\n",
       "      <td>0</td>\n",
       "      <td>1</td>\n",
       "      <td>1</td>\n",
       "      <td>1</td>\n",
       "      <td>2</td>\n",
       "      <td>2</td>\n",
       "      <td>13</td>\n",
       "    </tr>\n",
       "    <tr>\n",
       "      <th>30</th>\n",
       "      <td>0</td>\n",
       "      <td>1</td>\n",
       "      <td>1</td>\n",
       "      <td>1</td>\n",
       "      <td>1</td>\n",
       "      <td>1</td>\n",
       "      <td>3</td>\n",
       "      <td>0</td>\n",
       "      <td>0</td>\n",
       "      <td>0</td>\n",
       "      <td>1</td>\n",
       "      <td>1</td>\n",
       "      <td>1</td>\n",
       "      <td>2</td>\n",
       "      <td>3</td>\n",
       "      <td>14</td>\n",
       "    </tr>\n",
       "    <tr>\n",
       "      <th>31</th>\n",
       "      <td>0</td>\n",
       "      <td>1</td>\n",
       "      <td>1</td>\n",
       "      <td>1</td>\n",
       "      <td>1</td>\n",
       "      <td>1</td>\n",
       "      <td>3</td>\n",
       "      <td>0</td>\n",
       "      <td>0</td>\n",
       "      <td>0</td>\n",
       "      <td>1</td>\n",
       "      <td>1</td>\n",
       "      <td>1</td>\n",
       "      <td>2</td>\n",
       "      <td>4</td>\n",
       "      <td>15</td>\n",
       "    </tr>\n",
       "    <tr>\n",
       "      <th>32</th>\n",
       "      <td>0</td>\n",
       "      <td>1</td>\n",
       "      <td>1</td>\n",
       "      <td>1</td>\n",
       "      <td>1</td>\n",
       "      <td>1</td>\n",
       "      <td>3</td>\n",
       "      <td>0</td>\n",
       "      <td>0</td>\n",
       "      <td>0</td>\n",
       "      <td>1</td>\n",
       "      <td>1</td>\n",
       "      <td>1</td>\n",
       "      <td>2</td>\n",
       "      <td>5</td>\n",
       "      <td>16</td>\n",
       "    </tr>\n",
       "    <tr>\n",
       "      <th>33</th>\n",
       "      <td>0</td>\n",
       "      <td>1</td>\n",
       "      <td>1</td>\n",
       "      <td>1</td>\n",
       "      <td>1</td>\n",
       "      <td>1</td>\n",
       "      <td>3</td>\n",
       "      <td>0</td>\n",
       "      <td>0</td>\n",
       "      <td>0</td>\n",
       "      <td>1</td>\n",
       "      <td>1</td>\n",
       "      <td>1</td>\n",
       "      <td>2</td>\n",
       "      <td>2</td>\n",
       "      <td>13</td>\n",
       "    </tr>\n",
       "    <tr>\n",
       "      <th>34</th>\n",
       "      <td>1</td>\n",
       "      <td>2</td>\n",
       "      <td>2</td>\n",
       "      <td>2</td>\n",
       "      <td>2</td>\n",
       "      <td>3</td>\n",
       "      <td>0</td>\n",
       "      <td>2</td>\n",
       "      <td>2</td>\n",
       "      <td>2</td>\n",
       "      <td>0</td>\n",
       "      <td>0</td>\n",
       "      <td>0</td>\n",
       "      <td>0</td>\n",
       "      <td>0</td>\n",
       "      <td>9</td>\n",
       "    </tr>\n",
       "    <tr>\n",
       "      <th>35</th>\n",
       "      <td>1</td>\n",
       "      <td>2</td>\n",
       "      <td>2</td>\n",
       "      <td>2</td>\n",
       "      <td>2</td>\n",
       "      <td>3</td>\n",
       "      <td>0</td>\n",
       "      <td>2</td>\n",
       "      <td>2</td>\n",
       "      <td>2</td>\n",
       "      <td>0</td>\n",
       "      <td>0</td>\n",
       "      <td>0</td>\n",
       "      <td>0</td>\n",
       "      <td>7</td>\n",
       "      <td>16</td>\n",
       "    </tr>\n",
       "    <tr>\n",
       "      <th>36</th>\n",
       "      <td>1</td>\n",
       "      <td>2</td>\n",
       "      <td>2</td>\n",
       "      <td>2</td>\n",
       "      <td>2</td>\n",
       "      <td>3</td>\n",
       "      <td>0</td>\n",
       "      <td>2</td>\n",
       "      <td>2</td>\n",
       "      <td>2</td>\n",
       "      <td>0</td>\n",
       "      <td>0</td>\n",
       "      <td>0</td>\n",
       "      <td>0</td>\n",
       "      <td>2</td>\n",
       "      <td>16</td>\n",
       "    </tr>\n",
       "    <tr>\n",
       "      <th>37</th>\n",
       "      <td>1</td>\n",
       "      <td>2</td>\n",
       "      <td>2</td>\n",
       "      <td>2</td>\n",
       "      <td>2</td>\n",
       "      <td>3</td>\n",
       "      <td>0</td>\n",
       "      <td>2</td>\n",
       "      <td>2</td>\n",
       "      <td>2</td>\n",
       "      <td>0</td>\n",
       "      <td>0</td>\n",
       "      <td>0</td>\n",
       "      <td>0</td>\n",
       "      <td>10</td>\n",
       "      <td>0</td>\n",
       "    </tr>\n",
       "    <tr>\n",
       "      <th>38</th>\n",
       "      <td>1</td>\n",
       "      <td>2</td>\n",
       "      <td>2</td>\n",
       "      <td>2</td>\n",
       "      <td>2</td>\n",
       "      <td>3</td>\n",
       "      <td>0</td>\n",
       "      <td>2</td>\n",
       "      <td>2</td>\n",
       "      <td>2</td>\n",
       "      <td>0</td>\n",
       "      <td>0</td>\n",
       "      <td>0</td>\n",
       "      <td>0</td>\n",
       "      <td>11</td>\n",
       "      <td>1</td>\n",
       "    </tr>\n",
       "    <tr>\n",
       "      <th>39</th>\n",
       "      <td>1</td>\n",
       "      <td>2</td>\n",
       "      <td>2</td>\n",
       "      <td>2</td>\n",
       "      <td>2</td>\n",
       "      <td>3</td>\n",
       "      <td>0</td>\n",
       "      <td>2</td>\n",
       "      <td>2</td>\n",
       "      <td>2</td>\n",
       "      <td>0</td>\n",
       "      <td>0</td>\n",
       "      <td>0</td>\n",
       "      <td>0</td>\n",
       "      <td>13</td>\n",
       "      <td>1</td>\n",
       "    </tr>\n",
       "    <tr>\n",
       "      <th>40</th>\n",
       "      <td>1</td>\n",
       "      <td>2</td>\n",
       "      <td>2</td>\n",
       "      <td>2</td>\n",
       "      <td>2</td>\n",
       "      <td>3</td>\n",
       "      <td>0</td>\n",
       "      <td>2</td>\n",
       "      <td>2</td>\n",
       "      <td>2</td>\n",
       "      <td>0</td>\n",
       "      <td>0</td>\n",
       "      <td>0</td>\n",
       "      <td>0</td>\n",
       "      <td>13</td>\n",
       "      <td>2</td>\n",
       "    </tr>\n",
       "    <tr>\n",
       "      <th>41</th>\n",
       "      <td>1</td>\n",
       "      <td>2</td>\n",
       "      <td>2</td>\n",
       "      <td>2</td>\n",
       "      <td>2</td>\n",
       "      <td>3</td>\n",
       "      <td>0</td>\n",
       "      <td>2</td>\n",
       "      <td>2</td>\n",
       "      <td>2</td>\n",
       "      <td>0</td>\n",
       "      <td>0</td>\n",
       "      <td>0</td>\n",
       "      <td>0</td>\n",
       "      <td>0</td>\n",
       "      <td>10</td>\n",
       "    </tr>\n",
       "    <tr>\n",
       "      <th>42</th>\n",
       "      <td>1</td>\n",
       "      <td>2</td>\n",
       "      <td>2</td>\n",
       "      <td>2</td>\n",
       "      <td>2</td>\n",
       "      <td>3</td>\n",
       "      <td>0</td>\n",
       "      <td>2</td>\n",
       "      <td>2</td>\n",
       "      <td>2</td>\n",
       "      <td>0</td>\n",
       "      <td>0</td>\n",
       "      <td>0</td>\n",
       "      <td>0</td>\n",
       "      <td>0</td>\n",
       "      <td>9</td>\n",
       "    </tr>\n",
       "  </tbody>\n",
       "</table>\n",
       "</div>"
      ],
      "text/plain": [
       "    Jenis Kapal  Loa  Lwl  Breadth  Depth  Draft  Cb  beban A  beban B  \\\n",
       "0             2    4    4        4      4      4   2        4        4   \n",
       "1             2    4    4        4      4      4   2        4        4   \n",
       "2             2    4    4        4      4      4   2        4        4   \n",
       "3             2    4    4        4      4      4   2        4        4   \n",
       "4             2    4    4        4      4      4   2        4        4   \n",
       "5             2    4    4        4      4      4   2        4        4   \n",
       "6             2    4    4        4      4      4   2        4        4   \n",
       "7             2    4    4        4      4      4   2        4        4   \n",
       "8             2    4    4        4      4      4   2        4        4   \n",
       "9             1    3    3        3      3      2   1        3        3   \n",
       "10            1    3    3        3      3      2   1        3        3   \n",
       "11            1    3    3        3      3      2   1        3        3   \n",
       "12            1    3    3        3      3      2   1        3        3   \n",
       "13            1    3    3        3      3      2   1        3        3   \n",
       "14            1    3    3        3      3      2   1        3        3   \n",
       "15            1    3    3        3      3      2   1        3        3   \n",
       "16            1    3    3        3      3      2   1        3        3   \n",
       "17            1    3    3        3      3      2   1        3        3   \n",
       "18            0    0    0        0      0      0   4        1        1   \n",
       "19            0    0    0        0      0      0   4        1        1   \n",
       "20            0    0    0        0      0      0   4        1        1   \n",
       "21            0    0    0        0      0      0   4        1        1   \n",
       "22            0    0    0        0      0      0   4        1        1   \n",
       "23            0    0    0        0      0      0   4        1        1   \n",
       "24            0    0    0        0      0      0   4        1        1   \n",
       "25            0    1    1        1      1      1   3        0        0   \n",
       "26            0    1    1        1      1      1   3        0        0   \n",
       "27            0    1    1        1      1      1   3        0        0   \n",
       "28            0    1    1        1      1      1   3        0        0   \n",
       "29            0    1    1        1      1      1   3        0        0   \n",
       "30            0    1    1        1      1      1   3        0        0   \n",
       "31            0    1    1        1      1      1   3        0        0   \n",
       "32            0    1    1        1      1      1   3        0        0   \n",
       "33            0    1    1        1      1      1   3        0        0   \n",
       "34            1    2    2        2      2      3   0        2        2   \n",
       "35            1    2    2        2      2      3   0        2        2   \n",
       "36            1    2    2        2      2      3   0        2        2   \n",
       "37            1    2    2        2      2      3   0        2        2   \n",
       "38            1    2    2        2      2      3   0        2        2   \n",
       "39            1    2    2        2      2      3   0        2        2   \n",
       "40            1    2    2        2      2      3   0        2        2   \n",
       "41            1    2    2        2      2      3   0        2        2   \n",
       "42            1    2    2        2      2      3   0        2        2   \n",
       "\n",
       "    beban C  beban D  beban E  beban F  Jumlah beban  kiri  kanan  \n",
       "0         4        4        0        0             1     1     12  \n",
       "1         4        4        0        0             1     9      7  \n",
       "2         4        4        0        0             1    13      3  \n",
       "3         4        4        0        0             1    11      5  \n",
       "4         4        4        0        0             1    12      1  \n",
       "5         4        4        0        0             1     8      9  \n",
       "6         4        4        0        0             1     3     16  \n",
       "7         4        4        0        0             1     6     11  \n",
       "8         4        4        0        0             1     1     12  \n",
       "9         3        3        0        0             1     1     12  \n",
       "10        3        3        0        0             1     9      7  \n",
       "11        3        3        0        0             1    13      3  \n",
       "12        3        3        0        0             1    11      5  \n",
       "13        3        3        0        0             1    12      1  \n",
       "14        3        3        0        0             1     8      9  \n",
       "15        3        3        0        0             1     3     16  \n",
       "16        3        3        0        0             1     6     11  \n",
       "17        3        3        0        0             1     1     12  \n",
       "18        1        2        0        0             1     1     12  \n",
       "19        1        2        0        0             1     9      7  \n",
       "20        1        2        0        0             1    13      3  \n",
       "21        1        2        0        0             1     1     12  \n",
       "22        1        2        0        0             1     6     11  \n",
       "23        1        2        0        0             1     3     16  \n",
       "24        1        2        0        0             1     1     12  \n",
       "25        0        1        1        1             2     2     13  \n",
       "26        0        1        1        1             2    10      8  \n",
       "27        0        1        1        1             2    11      6  \n",
       "28        0        1        1        1             2    13      4  \n",
       "29        0        1        1        1             2     2     13  \n",
       "30        0        1        1        1             2     3     14  \n",
       "31        0        1        1        1             2     4     15  \n",
       "32        0        1        1        1             2     5     16  \n",
       "33        0        1        1        1             2     2     13  \n",
       "34        2        0        0        0             0     0      9  \n",
       "35        2        0        0        0             0     7     16  \n",
       "36        2        0        0        0             0     2     16  \n",
       "37        2        0        0        0             0    10      0  \n",
       "38        2        0        0        0             0    11      1  \n",
       "39        2        0        0        0             0    13      1  \n",
       "40        2        0        0        0             0    13      2  \n",
       "41        2        0        0        0             0     0     10  \n",
       "42        2        0        0        0             0     0      9  "
      ]
     },
     "execution_count": 58,
     "metadata": {},
     "output_type": "execute_result"
    }
   ],
   "source": [
    "X"
   ]
  },
  {
   "cell_type": "code",
   "execution_count": 67,
   "id": "643eb633",
   "metadata": {},
   "outputs": [
    {
     "data": {
      "text/plain": [
       "array([['Kapal penumpang', '62.8', '58.32', '12', '4', '2.7', '0.682',\n",
       "        '4.003', '3.718', '3.95', '4.022', '0', '0', '4', 'AB', 'CD']],\n",
       "      dtype='<U32')"
      ]
     },
     "execution_count": 67,
     "metadata": {},
     "output_type": "execute_result"
    }
   ],
   "source": [
    "# \"Jenis Kapal\", \"Loa\", \"Lwl\", \"Breadth\", \"Depth\", \"Draft\", \"Cb\", \"beban A\", \"beban B\" , \"beban C\", \"beban D\", \"beban E\", \"beban F\" , \"Jumlah beban\", \"kiri\", \"kanan\",\n",
    "X = np.array([['Kapal penumpang', 62.8, 58.320, 12, 4, 2.7, 0.682, 4.003, 3.718, 3.95, 4.022, 0, 0, 4,'AB','CD']])\n",
    "X"
   ]
  },
  {
   "cell_type": "code",
   "execution_count": 68,
   "id": "f28fcab1",
   "metadata": {},
   "outputs": [
    {
     "data": {
      "text/plain": [
       "array([[ 2.   , 62.8  , 58.32 , 12.   ,  4.   ,  2.7  ,  0.682,  4.003,\n",
       "         3.718,  3.95 ,  4.022,  0.   ,  0.   ,  4.   ,  1.   , 12.   ]])"
      ]
     },
     "execution_count": 68,
     "metadata": {},
     "output_type": "execute_result"
    }
   ],
   "source": [
    "X[:, 0] = le_kapal.transform(X[:,0])\n",
    "X[:, 14] = le_kiri.transform(X[:,14])\n",
    "X[:, 15] = le_kanan.transform(X[:,15])\n",
    "X = X.astype(float)\n",
    "X"
   ]
  },
  {
   "cell_type": "code",
   "execution_count": 69,
   "id": "cf73cd0d",
   "metadata": {},
   "outputs": [
    {
     "name": "stderr",
     "output_type": "stream",
     "text": [
      "E:\\Anaconda\\lib\\site-packages\\sklearn\\base.py:450: UserWarning: X does not have valid feature names, but DecisionTreeRegressor was fitted with feature names\n",
      "  warnings.warn(\n"
     ]
    },
    {
     "data": {
      "text/plain": [
       "array([[1.41878579, 1.93667478]])"
      ]
     },
     "execution_count": 69,
     "metadata": {},
     "output_type": "execute_result"
    }
   ],
   "source": [
    "y_pred = regressor.predict(X)\n",
    "y_pred"
   ]
  },
  {
   "cell_type": "code",
   "execution_count": 70,
   "id": "04a6ea91",
   "metadata": {},
   "outputs": [],
   "source": [
    "import pickle"
   ]
  },
  {
   "cell_type": "code",
   "execution_count": 72,
   "id": "d05a0acf",
   "metadata": {},
   "outputs": [],
   "source": [
    "data = {\"model\": regressor, \"le_kapal\": le_kapal, \"le_loa\": le_loa, \"le_lwl\": le_lwl, \"le_Breadth\": le_Breadth, \"le_Depth\": le_Depth, \"le_draft\": le_draft, \"le_Cb\": le_Cb, \"le_bebanA\": le_bebanA, \"le_bebanB\": le_bebanB, \"le_bebanC\": le_bebanC, \"le_bebanD\": le_bebanD, \"le_bebanE\": le_bebanE, \"le_bebanF\": le_bebanF, \"le_jumbeb\": le_jumbeb, \"le_kiri\": le_kiri, \"le_kanan\": le_kanan}\n",
    "with open('saved_steps.pkl', 'wb') as file:\n",
    "    pickle.dump(data, file)"
   ]
  },
  {
   "cell_type": "code",
   "execution_count": 73,
   "id": "f4dd6b05",
   "metadata": {},
   "outputs": [],
   "source": [
    "with open('saved_steps.pkl', 'rb') as file:\n",
    "    data = pickle.load(file)\n",
    "\n",
    "regressor_loaded = data[\"model\"]\n",
    "le_kapal = data[\"le_kapal\"]\n",
    "le_loa = data[\"le_loa\"]\n",
    "le_lwl = data[\"le_lwl\"]\n",
    "le_Breadth = data[\"le_Breadth\"]\n",
    "le_Depth = data[\"le_Depth\"]\n",
    "le_draft = data[\"le_draft\"]\n",
    "le_Cb = data[\"le_Cb\"]\n",
    "le_bebanA = data[\"le_bebanA\"]\n",
    "le_bebanB = data[\"le_bebanB\"]\n",
    "le_bebanC = data[\"le_loa\"]\n",
    "le_bebanD = data[\"le_bebanD\"]\n",
    "le_bebanE = data[\"le_bebanE\"]\n",
    "le_bebanF = data[\"le_bebanF\"]\n",
    "le_jumbeb = data[\"le_jumbeb\"]\n",
    "le_kiri = data[\"le_kiri\"]\n",
    "le_kanan = data[\"le_kanan\"]"
   ]
  },
  {
   "cell_type": "code",
   "execution_count": 74,
   "id": "829ce32e",
   "metadata": {},
   "outputs": [
    {
     "name": "stderr",
     "output_type": "stream",
     "text": [
      "E:\\Anaconda\\lib\\site-packages\\sklearn\\base.py:450: UserWarning: X does not have valid feature names, but DecisionTreeRegressor was fitted with feature names\n",
      "  warnings.warn(\n"
     ]
    },
    {
     "data": {
      "text/plain": [
       "array([[1.41878579, 1.93667478]])"
      ]
     },
     "execution_count": 74,
     "metadata": {},
     "output_type": "execute_result"
    }
   ],
   "source": [
    "y_pred = regressor_loaded.predict(X)\n",
    "y_pred"
   ]
  },
  {
   "cell_type": "code",
   "execution_count": null,
   "id": "e1f5e5b3",
   "metadata": {},
   "outputs": [],
   "source": []
  }
 ],
 "metadata": {
  "kernelspec": {
   "display_name": "Python 3 (ipykernel)",
   "language": "python",
   "name": "python3"
  },
  "language_info": {
   "codemirror_mode": {
    "name": "ipython",
    "version": 3
   },
   "file_extension": ".py",
   "mimetype": "text/x-python",
   "name": "python",
   "nbconvert_exporter": "python",
   "pygments_lexer": "ipython3",
   "version": "3.9.13"
  },
  "vscode": {
   "interpreter": {
    "hash": "8c1cb245772af43a905cc332b3f96a4f698d49209c9d0a38d076e2677a971936"
   }
  }
 },
 "nbformat": 4,
 "nbformat_minor": 5
}
